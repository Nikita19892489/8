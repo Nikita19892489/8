{
  "nbformat": 4,
  "nbformat_minor": 0,
  "metadata": {
    "colab": {
      "provenance": []
    },
    "kernelspec": {
      "name": "python3",
      "display_name": "Python 3"
    },
    "language_info": {
      "name": "python"
    }
  },
  "cells": [
    {
      "cell_type": "code",
      "execution_count": 1,
      "metadata": {
        "id": "WK2XLWf8dl1j"
      },
      "outputs": [],
      "source": [
        "# laboratory_work_5. ООП. Классы.\n",
        "\n",
        "import math\n",
        "\n",
        "# ====================================================================================================\n",
        "class Shape:\n",
        "    \"\"\"Основной класс Shape.\n",
        "Содержит один метод:\n",
        "    - calculate_area() - Без вычислений.\n",
        "    - Выдает ошибку, если в дочернем классе нет метода calculate_area().\\n\"\"\"\n",
        "\n",
        "    def calculate_area(self):\n",
        "        try:\n",
        "            raise NotImplementedError\n",
        "        except NotImplementedError as e:\n",
        "            print('Ошибка вызова метода! Ошибка: NotImplementedError. ' + str(e))\n",
        "            return(\"Метод calculate_area() должен быть определён в дочернем классе!\")\n",
        "        finally:\n",
        "            print('Для вызова метода calculate_area() используйте дочерние классы (Circle, Rectangle или Square)')\n",
        "# ====================================================================================================\n",
        "\n",
        "class Circle(Shape):\n",
        "    \"\"\"Circle - Дочерний класс основного класса Shape.\n",
        "Содержит два метода:\n",
        "    - calculate_area() - Вычисляет площадь.\n",
        "    - calculate_chord() - Вычисляет хорду.\n",
        "Входные параметры:\n",
        "    - radius (Может быть типа int или float).\n",
        "    - angle (Может быть типа int или float).\n",
        "    - По умолчанию оба параметра равны 1.\\n\"\"\"\n",
        "    def __init__(self, radius: int | float = 1, angle: int | float = 1):\n",
        "        self.radius = radius\n",
        "        self.angle = angle\n",
        "\n",
        "    def calculate_area(self) -> int | float:\n",
        "        try:\n",
        "            area = math.pi * (self.radius ** 2)\n",
        "            return (f'Площадь равна: {area:.2f}')\n",
        "        except TypeError:\n",
        "            print('Проверьте входные данные!')\n",
        "\n",
        "    def calculate_chord(self) -> int | float:\n",
        "        try:\n",
        "            angle_in_radians = math.radians(self.angle)\n",
        "            chord = 2 * self.radius * math.sin(angle_in_radians / 2)\n",
        "            return (f'Хорда равна: {chord:.2f}')\n",
        "        except TypeError:\n",
        "            print('Проверьте входные данные!')\n",
        "# ====================================================================================================\n",
        "\n",
        "class Rectangle(Shape):\n",
        "    \"\"\"Rectangle - Дочерний класс основного класса Shape.\n",
        "Содержит три метода:\n",
        "    - calculate_area() - Вычисляет площадь.\n",
        "    - calculate_perimeter() - Вычисляет периметр.\n",
        "    - calculate_diagonal() - Вычисляет диагональ.\n",
        "Входные параметры:\n",
        "    - width (Может быть типа int или float).\n",
        "    - height (Может быть типа int или float).\n",
        "    - По умолчанию оба параметра равны 1.\\n\"\"\"\n",
        "\n",
        "    def __init__(self, width: int | float = 1, height: int | float = 1):\n",
        "        self.width = width\n",
        "        self.height = height\n",
        "\n",
        "    def calculate_area(self) -> int | float:\n",
        "        try:\n",
        "            area = self.width * self.height\n",
        "            return (f'Площадь равна: {area:.2f}')\n",
        "        except TypeError:\n",
        "            print('Проверьте входные данные!')\n",
        "\n",
        "    def calculate_perimeter(self) -> int | float:\n",
        "        try:\n",
        "            per = 2 * (self.width + self.height)\n",
        "            return (f'Периметр равен: {per:.2f}')\n",
        "        except TypeError:\n",
        "            print('Проверьте входные данные!')\n",
        "\n",
        "    def calculate_diagonal(self) -> int | float:\n",
        "        try:\n",
        "            diag = math.sqrt(self.width ** 2 + self.height ** 2)\n",
        "            return (f'Диагональ равна: {diag:.2f}')\n",
        "        except TypeError:\n",
        "            print('Проверьте входные данные!')\n",
        "# ====================================================================================================\n",
        "\n",
        "class Square(Rectangle):\n",
        "    \"\"\"Square - Дочерний класс класса Rectangle.\n",
        "Rectangle - Дочерний класс основного класса Shape.\n",
        "Содержит три метода:\n",
        "    - calculate_area() - Вычисляет площадь.\n",
        "    - calculate_perimeter() - Вычисляет периметр.\n",
        "    - calculate_diagonal() - Вычисляет диагональ.\n",
        "Входные параметры:\n",
        "    - side (Может быть типа int или float).\n",
        "    - Параметров по умолчанию не содержит.\\n\"\"\"\n",
        "\n",
        "    def __init__(self, side: int | float):\n",
        "        super().__init__(side, side)\n",
        "\n",
        "    def calculate_area(self) -> int | float:\n",
        "        return super().calculate_area()\n",
        "\n",
        "    def calculate_perimeter(self) -> int | float:\n",
        "        return super().calculate_perimeter()\n",
        "\n",
        "    def calculate_diagonal(self) -> int | float:\n",
        "        return super().calculate_diagonal()\n",
        "# ===================================================================================================="
      ]
    },
    {
      "cell_type": "code",
      "source": [
        "print(Shape.__doc__)\n",
        "print(Circle.__doc__)\n",
        "print(Rectangle.__doc__)\n",
        "print(Square.__doc__)"
      ],
      "metadata": {
        "colab": {
          "base_uri": "https://localhost:8080/"
        },
        "id": "I2sLxGvnAw4g",
        "outputId": "6da9e38f-4642-4305-b6bb-b745d97595c6"
      },
      "execution_count": 2,
      "outputs": [
        {
          "output_type": "stream",
          "name": "stdout",
          "text": [
            "Основной класс Shape.\n",
            "Содержит один метод:\n",
            "    - calculate_area() - Без вычислений.\n",
            "    - Выдает ошибку, если в дочернем классе нет метода calculate_area().\n",
            "\n",
            "Circle - Дочерний класс основного класса Shape.\n",
            "Содержит два метода:\n",
            "    - calculate_area() - Вычисляет площадь.\n",
            "    - calculate_chord() - Вычисляет хорду.\n",
            "Входные параметры:\n",
            "    - radius (Может быть типа int или float).\n",
            "    - angle (Может быть типа int или float).\n",
            "    - По умолчанию оба параметра равны 1.\n",
            "\n",
            "Rectangle - Дочерний класс основного класса Shape.\n",
            "Содержит три метода:\n",
            "    - calculate_area() - Вычисляет площадь.\n",
            "    - calculate_perimeter() - Вычисляет периметр.\n",
            "    - calculate_diagonal() - Вычисляет диагональ.\n",
            "Входные параметры:\n",
            "    - width (Может быть типа int или float).\n",
            "    - height (Может быть типа int или float).\n",
            "    - По умолчанию оба параметра равны 1.\n",
            "\n",
            "Square - Дочерний класс класса Rectangle.\n",
            "Rectangle - Дочерний класс основного класса Shape.\n",
            "Содержит три метода:\n",
            "    - calculate_area() - Вычисляет площадь.\n",
            "    - calculate_perimeter() - Вычисляет периметр.\n",
            "    - calculate_diagonal() - Вычисляет диагональ.\n",
            "Входные параметры:\n",
            "    - side (Может быть типа int или float).\n",
            "    - Параметров по умолчанию не содержит.\n",
            "\n"
          ]
        }
      ]
    },
    {
      "cell_type": "code",
      "source": [
        "try:\n",
        "    fig_1_circle = Circle(radius = 14, angle = 45)\n",
        "    fig_2_rectangle = Rectangle(width = 12, height = 8)\n",
        "    fig_3_square = Square(side = 24)\n",
        "except (TypeError, NameError):\n",
        "    print('Проверьте правильность входныx данные!')"
      ],
      "metadata": {
        "id": "dcht6OgSAzo5"
      },
      "execution_count": 3,
      "outputs": []
    },
    {
      "cell_type": "code",
      "source": [
        "print(fig_1_circle.calculate_area())\n",
        "print(fig_1_circle.calculate_chord())"
      ],
      "metadata": {
        "colab": {
          "base_uri": "https://localhost:8080/"
        },
        "id": "5-y-35t_A0mJ",
        "outputId": "b490d25c-e0d1-477e-8fe8-497838d7bc23"
      },
      "execution_count": 4,
      "outputs": [
        {
          "output_type": "stream",
          "name": "stdout",
          "text": [
            "Площадь равна: 615.75\n",
            "Хорда равна: 10.72\n"
          ]
        }
      ]
    },
    {
      "cell_type": "code",
      "source": [
        "print(fig_2_rectangle.calculate_area())\n",
        "print(fig_2_rectangle.calculate_perimeter())\n",
        "print(fig_2_rectangle.calculate_diagonal())"
      ],
      "metadata": {
        "colab": {
          "base_uri": "https://localhost:8080/"
        },
        "id": "VGSMtpwzA4-C",
        "outputId": "66940594-f0e5-43bc-ccb2-8b05a90db5b7"
      },
      "execution_count": 5,
      "outputs": [
        {
          "output_type": "stream",
          "name": "stdout",
          "text": [
            "Площадь равна: 96.00\n",
            "Периметр равен: 40.00\n",
            "Диагональ равна: 14.42\n"
          ]
        }
      ]
    },
    {
      "cell_type": "code",
      "source": [
        "print(fig_3_square.calculate_area())\n",
        "print(fig_3_square.calculate_perimeter())\n",
        "print(fig_3_square.calculate_diagonal())"
      ],
      "metadata": {
        "colab": {
          "base_uri": "https://localhost:8080/"
        },
        "id": "x2_jYyreA53K",
        "outputId": "66bbbab5-ef1a-4bb1-c74d-5bb1173934b4"
      },
      "execution_count": 6,
      "outputs": [
        {
          "output_type": "stream",
          "name": "stdout",
          "text": [
            "Площадь равна: 576.00\n",
            "Периметр равен: 96.00\n",
            "Диагональ равна: 33.94\n"
          ]
        }
      ]
    },
    {
      "cell_type": "code",
      "source": [
        "# Тест на ошибку NotImplementedError.\n",
        "\n",
        "class Circle_Er(Shape):\n",
        "    def __init__(self, radius: int | float = 1, angle: int | float = 1):\n",
        "        self.radius = radius\n",
        "        self.angle = angle\n",
        "\n",
        "    # def calculate_area(self) -> int | float:\n",
        "    #     try:\n",
        "    #         area = math.pi * (self.radius ** 2)\n",
        "    #         return (f'Площадь равна: {area:.2f}')\n",
        "    #     except TypeError:\n",
        "    #         print('Проверьте входные данные!')\n",
        "\n",
        "    def calculate_chord(self) -> int | float:\n",
        "        try:\n",
        "            angle_in_radians = math.radians(self.angle)\n",
        "            chord = 2 * self.radius * math.sin(angle_in_radians / 2)\n",
        "            return (f'Хорда равна: {chord:.2f}')\n",
        "        except TypeError:\n",
        "            print('Проверьте входные данные!')"
      ],
      "metadata": {
        "id": "SpMXWMdpBWp7"
      },
      "execution_count": 7,
      "outputs": []
    },
    {
      "cell_type": "code",
      "source": [
        "try:\n",
        "    fig_1_circle = Circle_Er(radius = 26, angle = 90)\n",
        "except (TypeError, NameError):\n",
        "    print('Проверьте правильность входныx данные!')"
      ],
      "metadata": {
        "id": "MLl7hIU2BfCa"
      },
      "execution_count": 8,
      "outputs": []
    },
    {
      "cell_type": "code",
      "source": [
        "print(fig_1_circle.calculate_area())\n",
        "print(fig_1_circle.calculate_chord())"
      ],
      "metadata": {
        "colab": {
          "base_uri": "https://localhost:8080/"
        },
        "id": "VKcxtupaBlS9",
        "outputId": "21cf26f6-7c92-416a-a3e9-81b2039d40f3"
      },
      "execution_count": 9,
      "outputs": [
        {
          "output_type": "stream",
          "name": "stdout",
          "text": [
            "Ошибка вызова метода! Ошибка: NotImplementedError. \n",
            "Для вызова метода calculate_area() используйте дочерние классы (Circle, Rectangle или Square)\n",
            "Метод calculate_area() должен быть определён в дочернем классе!\n",
            "Хорда равна: 36.77\n"
          ]
        }
      ]
    },
    {
      "cell_type": "code",
      "source": [],
      "metadata": {
        "id": "kPIblXG3Cvcg"
      },
      "execution_count": null,
      "outputs": []
    }
  ]
}